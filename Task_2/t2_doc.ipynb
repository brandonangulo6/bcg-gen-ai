{
 "cells": [
  {
   "cell_type": "markdown",
   "id": "8fffdb6c",
   "metadata": {},
   "source": [
    "# AI Chatbot for Financial Analysis (Prototype)\n",
    "\n",
    "## How it Works:\n",
    "This chatbot prototype is designed to answer predefined financial questions using company data from 2022–2024. It works by matching user input to canned responses based on previous data analysis.\n",
    "\n",
    "## Predefined Queries It Can Answer:\n",
    "- What is the total revenue of Microsoft in 2024?\n",
    "- How has net income changed for Tesla from 2023 to 2024?\n",
    "- What was Apple’s operating cash flow in 2022?\n",
    "- Which company had the highest revenue in 2024?\n",
    "- What is the revenue growth of Apple in 2023?\n",
    "\n",
    "## Limitations:\n",
    "- Only responds to exact, predefined questions.\n",
    "- Cannot answer new or ambiguous queries.\n",
    "- Does not learn or adapt — it's rule-based only.\n",
    "\n",
    "## Next Steps:\n",
    "Future improvements could include natural language processing (NLP), a larger database backend, and a web interface using Flask for user interaction."
   ]
  }
 ],
 "metadata": {
  "kernelspec": {
   "display_name": "Python 3",
   "language": "python",
   "name": "python3"
  },
  "language_info": {
   "name": "python",
   "version": "3.9.13"
  }
 },
 "nbformat": 4,
 "nbformat_minor": 5
}
